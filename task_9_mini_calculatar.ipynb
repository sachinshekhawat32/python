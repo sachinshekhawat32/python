{
 "cells": [
  {
   "cell_type": "markdown",
   "metadata": {},
   "source": [
    "\n",
    "# Task 9\n",
    "Ask 2 numbers from users and store it in num1 and num2\n",
    "Ask user to press 1 for addition,2 for subtraction,3 for multiplication and 4 for division\n",
    "based on number given by user do the math operation"
   ]
  },
  {
   "cell_type": "code",
   "execution_count": 1,
   "metadata": {},
   "outputs": [
    {
     "name": "stdout",
     "output_type": "stream",
     "text": [
      "welcome to mini  calculater\n",
      "enter first number2\n",
      "enter second number2\n",
      "press 1 for sum\n",
      "press 2 for subtraction\n",
      "press 3 for multiplication\n",
      "press 4 for division\n",
      "1\n",
      "addtion 4\n"
     ]
    }
   ],
   "source": [
    "\n",
    "\n",
    "print(\"welcome to mini  calculater\")\n",
    "\n",
    "num1 = int(input(\"enter first number\"))\n",
    "num2 = int(input(\"enter second number\"))\n",
    "print('press 1 for sum' )\n",
    "print('press 2 for subtraction')\n",
    "print('press 3 for multiplication')\n",
    "print('press 4 for division' )    \n",
    "opration= int(input())\n",
    "if opration== 1 :\n",
    "    print('addtion',num1+num2)   \n",
    "elif opration == 2 :\n",
    "    print('minus',num1-num2)    \n",
    "    \n",
    "elif opration== 3 :\n",
    "    print('multipilcation',num1*num2) \n",
    "\n",
    "elif opration== 4 :\n",
    "    print('divison',num1/num2)\n",
    "else :\n",
    "    print(\"wrong input\")\n",
    "  \n",
    " \n",
    "    \n",
    "    "
   ]
  },
  {
   "cell_type": "code",
   "execution_count": null,
   "metadata": {},
   "outputs": [],
   "source": []
  }
 ],
 "metadata": {
  "kernelspec": {
   "display_name": "Python 3",
   "language": "python",
   "name": "python3"
  },
  "language_info": {
   "codemirror_mode": {
    "name": "ipython",
    "version": 3
   },
   "file_extension": ".py",
   "mimetype": "text/x-python",
   "name": "python",
   "nbconvert_exporter": "python",
   "pygments_lexer": "ipython3",
   "version": "3.8.5"
  }
 },
 "nbformat": 4,
 "nbformat_minor": 4
}
