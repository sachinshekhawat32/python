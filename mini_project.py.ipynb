{
 "cells": [
  {
   "cell_type": "markdown",
   "metadata": {},
   "source": [
    "# spam detector by  using if else:\n"
   ]
  },
  {
   "cell_type": "code",
   "execution_count": null,
   "metadata": {},
   "outputs": [],
   "source": [
    "text=input(\"enter your text\\n\")\n",
    "if (\"make lot of money\" in text):\n",
    "    spam= True\n",
    "elif (\"buy now \" in text):\n",
    "    spam= True\n",
    "elif (\"play and win big\" in text):\n",
    "    spam= True\n",
    "elif (\"click here to get your gift\" in text):\n",
    "    spam= True\n",
    "else:\n",
    "    spam=False\n",
    "\n",
    "if(spam):\n",
    "    print(\"this taxt is a spam\")\n",
    "else:\n",
    "    print(\"thats not a spam\")"
   ]
  },
  {
   "cell_type": "code",
   "execution_count": null,
   "metadata": {},
   "outputs": [],
   "source": []
  },
  {
   "cell_type": "markdown",
   "metadata": {},
   "source": [
    "#  A SMALL  GAME  "
   ]
  },
  {
   "cell_type": "code",
   "execution_count": 2,
   "metadata": {},
   "outputs": [
    {
     "name": "stdout",
     "output_type": "stream",
     "text": [
      "computer turn: rock(r),paper(p),sizer(s)?\n",
      "3\n",
      "your turn: rock(r),paper(p),sizer(s)?s\n",
      "the game is tie \n"
     ]
    }
   ],
   "source": [
    "import random\n",
    "\n",
    "def gamewin(comp,you):\n",
    "    if comp==you:\n",
    "        return None\n",
    "    elif comp =='r':\n",
    "        if you=='s':\n",
    "            return False\n",
    "        elif you=='p':\n",
    "            return True\n",
    "    elif comp =='p':\n",
    "        if you=='r':\n",
    "            return False\n",
    "        elif you=='s':\n",
    "            return True\n",
    "    elif comp=='s':\n",
    "        if you=='p':\n",
    "            return False\n",
    "        elif you=='r':\n",
    "            return True\n",
    "comp=print(\"computer turn: rock(r),paper(p),sizer(s)?\")     \n",
    "randno=random.randint(1,3)\n",
    "print(randno)\n",
    "if randno ==1:\n",
    "    comp=='r'\n",
    "elif randno ==2:\n",
    "    comp=='p'\n",
    "elif randno ==3:\n",
    "    comp=='s'\n",
    "you=input(\"your turn: rock(r),paper(p),sizer(s)?\")\n",
    "a=gamewin(comp,you) \n",
    "\n",
    "if a==None:\n",
    "    print(\"the game is tie \")\n",
    "elif a:\n",
    "    print(\"you win\")\n",
    "else:\n",
    "    print(\"you lose\")\n",
    "    \n"
   ]
  },
  {
   "cell_type": "code",
   "execution_count": null,
   "metadata": {},
   "outputs": [],
   "source": []
  },
  {
   "cell_type": "code",
   "execution_count": null,
   "metadata": {},
   "outputs": [],
   "source": []
  },
  {
   "cell_type": "code",
   "execution_count": null,
   "metadata": {},
   "outputs": [],
   "source": []
  }
 ],
 "metadata": {
  "kernelspec": {
   "display_name": "Python 3",
   "language": "python",
   "name": "python3"
  },
  "language_info": {
   "codemirror_mode": {
    "name": "ipython",
    "version": 3
   },
   "file_extension": ".py",
   "mimetype": "text/x-python",
   "name": "python",
   "nbconvert_exporter": "python",
   "pygments_lexer": "ipython3",
   "version": "3.8.5"
  }
 },
 "nbformat": 4,
 "nbformat_minor": 4
}
