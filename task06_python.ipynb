{
 "cells": [
  {
   "cell_type": "markdown",
   "metadata": {},
   "source": [
    "#task 6 -\n",
    "\n",
    "Add and remove the elements from a tuple. (Refer workaroud to modify the tuples)m"
   ]
  },
  {
   "cell_type": "code",
   "execution_count": 4,
   "metadata": {},
   "outputs": [
    {
     "data": {
      "text/plain": [
       "tuple"
      ]
     },
     "execution_count": 4,
     "metadata": {},
     "output_type": "execute_result"
    }
   ],
   "source": [
    "tup6= ('pankaj','sachin','shayam')\n",
    "type(tup6)"
   ]
  },
  {
   "cell_type": "code",
   "execution_count": 41,
   "metadata": {},
   "outputs": [
    {
     "name": "stdout",
     "output_type": "stream",
     "text": [
      "['sachin', 'shayam']\n",
      "['sachin', 'shayam', 'pankaj']\n"
     ]
    }
   ],
   "source": [
    "l1=list(tup6)\n",
    "type(l1)\n",
    "l1.remove('pankaj')\n",
    "print(l1)\n",
    "l1.append('pankaj')\n",
    "print(l1)"
   ]
  },
  {
   "cell_type": "code",
   "execution_count": 42,
   "metadata": {},
   "outputs": [
    {
     "name": "stdout",
     "output_type": "stream",
     "text": [
      "('sachin', 'shayam', 'pankaj')\n"
     ]
    }
   ],
   "source": [
    "tup2=tuple(l1)\n",
    "type(l1)\n",
    "print(tup2)"
   ]
  },
  {
   "cell_type": "code",
   "execution_count": null,
   "metadata": {},
   "outputs": [],
   "source": []
  }
 ],
 "metadata": {
  "kernelspec": {
   "display_name": "Python 3",
   "language": "python",
   "name": "python3"
  },
  "language_info": {
   "codemirror_mode": {
    "name": "ipython",
    "version": 3
   },
   "file_extension": ".py",
   "mimetype": "text/x-python",
   "name": "python",
   "nbconvert_exporter": "python",
   "pygments_lexer": "ipython3",
   "version": "3.8.5"
  }
 },
 "nbformat": 4,
 "nbformat_minor": 4
}
