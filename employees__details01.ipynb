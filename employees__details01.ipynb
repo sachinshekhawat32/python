{
 "cells": [
  {
   "cell_type": "code",
   "execution_count": null,
   "metadata": {},
   "outputs": [],
   "source": []
  },
  {
   "cell_type": "code",
   "execution_count": 6,
   "metadata": {},
   "outputs": [],
   "source": [
    "class employees:\n",
    "    def __init__(self,name,age,salary,gender):\n",
    "        self.name=name\n",
    "        self.age= age\n",
    "        self.salary=salary \n",
    "        self.gender =  gender\n",
    "        \n",
    "    def show1_employee_details(self):\n",
    "        print(\"the name of employee is \",self.name)\n",
    "        print(\"the age of employee is \",self.age)\n",
    "        print(\"the salary of employee is \",self.salary)\n",
    "        print(\"the gender of employee is \",self.gender)\n",
    "        \n",
    "        \n",
    "    def show2_employee_details(self):\n",
    "        print(\"the name of employee is \",self.name)\n",
    "        print(\"the age of employee is \",self.age)\n",
    "        print(\"the salary of employee is \",self.salary)\n",
    "        print(\"the gender of employee is \",self.gender)\n",
    "    def show3_employee_details(self):\n",
    "        print(\"the name of employee is \",self.name)\n",
    "        print(\"the age of employee is \",self.age)\n",
    "        print(\"the salary of employee is \",self.salary)\n",
    "        print(\"the gender of employee is \",self.gender)\n",
    "    def show4_employee_details(self):\n",
    "        print(\"the name of employee is \",self.name)\n",
    "        print(\"the age of employee is \",self.age)\n",
    "        print(\"the salary of employee is \",self.salary)\n",
    "        print(\"the gender of employee is \",self.gender)"
   ]
  },
  {
   "cell_type": "code",
   "execution_count": 7,
   "metadata": {},
   "outputs": [],
   "source": [
    "emp1= employees('sachin',22,15000,'male')\n",
    "emp2= employees ('ram',35,25000,'male')\n",
    "emp3= employees('shayam',23,35000,'male')\n",
    "emp4= employees('rakesh',40,45000,'male')"
   ]
  },
  {
   "cell_type": "code",
   "execution_count": 8,
   "metadata": {},
   "outputs": [
    {
     "name": "stdout",
     "output_type": "stream",
     "text": [
      "the name of employee is  sachin\n",
      "the age of employee is  22\n",
      "the salary of employee is  15000\n",
      "the gender of employee is  male\n"
     ]
    }
   ],
   "source": [
    "emp1.show1_employee_details()"
   ]
  },
  {
   "cell_type": "code",
   "execution_count": 9,
   "metadata": {},
   "outputs": [
    {
     "name": "stdout",
     "output_type": "stream",
     "text": [
      "the name of employee is  ram\n",
      "the age of employee is  35\n",
      "the salary of employee is  25000\n",
      "the gender of employee is  male\n"
     ]
    }
   ],
   "source": [
    "emp2.show2_employee_details()"
   ]
  },
  {
   "cell_type": "code",
   "execution_count": 10,
   "metadata": {},
   "outputs": [
    {
     "name": "stdout",
     "output_type": "stream",
     "text": [
      "the name of employee is  ram\n",
      "the age of employee is  35\n",
      "the salary of employee is  25000\n",
      "the gender of employee is  male\n"
     ]
    }
   ],
   "source": [
    "emp2.show3_employee_details()"
   ]
  },
  {
   "cell_type": "code",
   "execution_count": 11,
   "metadata": {},
   "outputs": [
    {
     "name": "stdout",
     "output_type": "stream",
     "text": [
      "the name of employee is  shayam\n",
      "the age of employee is  23\n",
      "the salary of employee is  35000\n",
      "the gender of employee is  male\n"
     ]
    }
   ],
   "source": [
    "emp3.show3_employee_details()"
   ]
  },
  {
   "cell_type": "code",
   "execution_count": 12,
   "metadata": {},
   "outputs": [
    {
     "name": "stdout",
     "output_type": "stream",
     "text": [
      "the name of employee is  sachin\n",
      "the age of employee is  22\n",
      "the salary of employee is  15000\n",
      "the gender of employee is  male\n"
     ]
    }
   ],
   "source": [
    "emp1.show4_employee_details()"
   ]
  },
  {
   "cell_type": "code",
   "execution_count": null,
   "metadata": {},
   "outputs": [],
   "source": []
  }
 ],
 "metadata": {
  "kernelspec": {
   "display_name": "Python 3",
   "language": "python",
   "name": "python3"
  },
  "language_info": {
   "codemirror_mode": {
    "name": "ipython",
    "version": 3
   },
   "file_extension": ".py",
   "mimetype": "text/x-python",
   "name": "python",
   "nbconvert_exporter": "python",
   "pygments_lexer": "ipython3",
   "version": "3.8.5"
  }
 },
 "nbformat": 4,
 "nbformat_minor": 4
}
